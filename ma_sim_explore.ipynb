{
 "cells": [
  {
   "cell_type": "code",
   "execution_count": 1,
   "metadata": {},
   "outputs": [],
   "source": [
    "import pandas as pd\n",
    "import plotly.graph_objects as go"
   ]
  },
  {
   "cell_type": "code",
   "execution_count": 3,
   "metadata": {},
   "outputs": [],
   "source": [
    "ma_test_res = pd.read_pickle(\"ma_test_res.pkl\")\n",
    "all_trades = pd.read_pickle(\"all_trades.pkl\")"
   ]
  },
  {
   "cell_type": "code",
   "execution_count": 5,
   "metadata": {},
   "outputs": [
    {
     "data": {
      "text/plain": [
       "(630, 8)"
      ]
     },
     "execution_count": 5,
     "metadata": {},
     "output_type": "execute_result"
    }
   ],
   "source": [
    "ma_test_res.shape"
   ]
  },
  {
   "cell_type": "code",
   "execution_count": 7,
   "metadata": {},
   "outputs": [
    {
     "data": {
      "text/html": [
       "<div>\n",
       "<style scoped>\n",
       "    .dataframe tbody tr th:only-of-type {\n",
       "        vertical-align: middle;\n",
       "    }\n",
       "\n",
       "    .dataframe tbody tr th {\n",
       "        vertical-align: top;\n",
       "    }\n",
       "\n",
       "    .dataframe thead th {\n",
       "        text-align: right;\n",
       "    }\n",
       "</style>\n",
       "<table border=\"1\" class=\"dataframe\">\n",
       "  <thead>\n",
       "    <tr style=\"text-align: right;\">\n",
       "      <th></th>\n",
       "      <th>pair</th>\n",
       "      <th>num_trades</th>\n",
       "      <th>total_gain</th>\n",
       "      <th>mean_gain</th>\n",
       "      <th>min_gain</th>\n",
       "      <th>max_gain</th>\n",
       "      <th>mashort</th>\n",
       "      <th>malong</th>\n",
       "    </tr>\n",
       "  </thead>\n",
       "  <tbody>\n",
       "    <tr>\n",
       "      <th>0</th>\n",
       "      <td>GBP_CAD</td>\n",
       "      <td>543</td>\n",
       "      <td>134.6</td>\n",
       "      <td>0.247882</td>\n",
       "      <td>-250.2</td>\n",
       "      <td>377.6</td>\n",
       "      <td>4</td>\n",
       "      <td>8</td>\n",
       "    </tr>\n",
       "    <tr>\n",
       "      <th>1</th>\n",
       "      <td>GBP_CAD</td>\n",
       "      <td>303</td>\n",
       "      <td>1500.0</td>\n",
       "      <td>4.950495</td>\n",
       "      <td>-250.2</td>\n",
       "      <td>346.3</td>\n",
       "      <td>4</td>\n",
       "      <td>16</td>\n",
       "    </tr>\n",
       "    <tr>\n",
       "      <th>2</th>\n",
       "      <td>GBP_CAD</td>\n",
       "      <td>283</td>\n",
       "      <td>954.2</td>\n",
       "      <td>3.371731</td>\n",
       "      <td>-278.0</td>\n",
       "      <td>364.4</td>\n",
       "      <td>8</td>\n",
       "      <td>16</td>\n",
       "    </tr>\n",
       "    <tr>\n",
       "      <th>3</th>\n",
       "      <td>GBP_CAD</td>\n",
       "      <td>182</td>\n",
       "      <td>-248.4</td>\n",
       "      <td>-1.364835</td>\n",
       "      <td>-112.9</td>\n",
       "      <td>343.0</td>\n",
       "      <td>4</td>\n",
       "      <td>32</td>\n",
       "    </tr>\n",
       "    <tr>\n",
       "      <th>4</th>\n",
       "      <td>GBP_CAD</td>\n",
       "      <td>140</td>\n",
       "      <td>568.8</td>\n",
       "      <td>4.062857</td>\n",
       "      <td>-144.7</td>\n",
       "      <td>360.0</td>\n",
       "      <td>8</td>\n",
       "      <td>32</td>\n",
       "    </tr>\n",
       "  </tbody>\n",
       "</table>\n",
       "</div>"
      ],
      "text/plain": [
       "      pair  num_trades  total_gain  mean_gain  min_gain  max_gain  mashort   \n",
       "0  GBP_CAD         543       134.6   0.247882    -250.2     377.6        4  \\\n",
       "1  GBP_CAD         303      1500.0   4.950495    -250.2     346.3        4   \n",
       "2  GBP_CAD         283       954.2   3.371731    -278.0     364.4        8   \n",
       "3  GBP_CAD         182      -248.4  -1.364835    -112.9     343.0        4   \n",
       "4  GBP_CAD         140       568.8   4.062857    -144.7     360.0        8   \n",
       "\n",
       "   malong  \n",
       "0       8  \n",
       "1      16  \n",
       "2      16  \n",
       "3      32  \n",
       "4      32  "
      ]
     },
     "execution_count": 7,
     "metadata": {},
     "output_type": "execute_result"
    }
   ],
   "source": [
    "ma_test_res.head()"
   ]
  },
  {
   "cell_type": "code",
   "execution_count": 7,
   "metadata": {},
   "outputs": [
    {
     "data": {
      "text/plain": [
       "Index(['pair', 'num_trades', 'total_gain', 'mean_gain', 'min_gain', 'max_gain',\n",
       "       'mashort', 'malong'],\n",
       "      dtype='object')"
      ]
     },
     "execution_count": 7,
     "metadata": {},
     "output_type": "execute_result"
    }
   ],
   "source": [
    "ma_test_res.columns"
   ]
  },
  {
   "cell_type": "code",
   "execution_count": 8,
   "metadata": {},
   "outputs": [],
   "source": [
    "ma_test_res = ma_test_res[['pair', 'num_trades', 'total_gain', 'mashort', 'malong']]"
   ]
  },
  {
   "cell_type": "code",
   "execution_count": 12,
   "metadata": {},
   "outputs": [],
   "source": [
    "ma_test_res[\"CROSS\"] = \"MA_\" + ma_test_res.mashort.map(str) + \"_\" + ma_test_res.malong.map(str)"
   ]
  },
  {
   "cell_type": "code",
   "execution_count": 17,
   "metadata": {},
   "outputs": [],
   "source": [
    "df_all_gains = ma_test_res.groupby(by=[\"CROSS\", \"malong\", \"mashort\"], as_index=False).sum()"
   ]
  },
  {
   "cell_type": "code",
   "execution_count": 20,
   "metadata": {},
   "outputs": [],
   "source": [
    "df_all_gains.sort_values(by=\"total_gain\", ascending=False, inplace=True)"
   ]
  },
  {
   "cell_type": "code",
   "execution_count": 21,
   "metadata": {},
   "outputs": [
    {
     "data": {
      "text/html": [
       "<div>\n",
       "<style scoped>\n",
       "    .dataframe tbody tr th:only-of-type {\n",
       "        vertical-align: middle;\n",
       "    }\n",
       "\n",
       "    .dataframe tbody tr th {\n",
       "        vertical-align: top;\n",
       "    }\n",
       "\n",
       "    .dataframe thead th {\n",
       "        text-align: right;\n",
       "    }\n",
       "</style>\n",
       "<table border=\"1\" class=\"dataframe\">\n",
       "  <thead>\n",
       "    <tr style=\"text-align: right;\">\n",
       "      <th></th>\n",
       "      <th>CROSS</th>\n",
       "      <th>malong</th>\n",
       "      <th>mashort</th>\n",
       "      <th>pair</th>\n",
       "      <th>num_trades</th>\n",
       "      <th>total_gain</th>\n",
       "    </tr>\n",
       "  </thead>\n",
       "  <tbody>\n",
       "    <tr>\n",
       "      <th>25</th>\n",
       "      <td>MA_8_16</td>\n",
       "      <td>16</td>\n",
       "      <td>8</td>\n",
       "      <td>GBP_CADGBP_CHFGBP_JPYGBP_NZDGBP_USDEUR_GBPEUR_...</td>\n",
       "      <td>5747</td>\n",
       "      <td>-1189.3</td>\n",
       "    </tr>\n",
       "    <tr>\n",
       "      <th>17</th>\n",
       "      <td>MA_4_32</td>\n",
       "      <td>32</td>\n",
       "      <td>4</td>\n",
       "      <td>GBP_CADGBP_CHFGBP_JPYGBP_NZDGBP_USDEUR_GBPEUR_...</td>\n",
       "      <td>4002</td>\n",
       "      <td>-3981.3</td>\n",
       "    </tr>\n",
       "    <tr>\n",
       "      <th>27</th>\n",
       "      <td>MA_8_32</td>\n",
       "      <td>32</td>\n",
       "      <td>8</td>\n",
       "      <td>GBP_CADGBP_CHFGBP_JPYGBP_NZDGBP_USDEUR_GBPEUR_...</td>\n",
       "      <td>3138</td>\n",
       "      <td>-4631.2</td>\n",
       "    </tr>\n",
       "    <tr>\n",
       "      <th>15</th>\n",
       "      <td>MA_4_16</td>\n",
       "      <td>16</td>\n",
       "      <td>4</td>\n",
       "      <td>GBP_CADGBP_CHFGBP_JPYGBP_NZDGBP_USDEUR_GBPEUR_...</td>\n",
       "      <td>6592</td>\n",
       "      <td>-5249.7</td>\n",
       "    </tr>\n",
       "    <tr>\n",
       "      <th>19</th>\n",
       "      <td>MA_4_8</td>\n",
       "      <td>8</td>\n",
       "      <td>4</td>\n",
       "      <td>GBP_CADGBP_CHFGBP_JPYGBP_NZDGBP_USDEUR_GBPEUR_...</td>\n",
       "      <td>11629</td>\n",
       "      <td>-7758.9</td>\n",
       "    </tr>\n",
       "  </tbody>\n",
       "</table>\n",
       "</div>"
      ],
      "text/plain": [
       "      CROSS  malong  mashort   \n",
       "25  MA_8_16      16        8  \\\n",
       "17  MA_4_32      32        4   \n",
       "27  MA_8_32      32        8   \n",
       "15  MA_4_16      16        4   \n",
       "19   MA_4_8       8        4   \n",
       "\n",
       "                                                 pair  num_trades  total_gain  \n",
       "25  GBP_CADGBP_CHFGBP_JPYGBP_NZDGBP_USDEUR_GBPEUR_...        5747     -1189.3  \n",
       "17  GBP_CADGBP_CHFGBP_JPYGBP_NZDGBP_USDEUR_GBPEUR_...        4002     -3981.3  \n",
       "27  GBP_CADGBP_CHFGBP_JPYGBP_NZDGBP_USDEUR_GBPEUR_...        3138     -4631.2  \n",
       "15  GBP_CADGBP_CHFGBP_JPYGBP_NZDGBP_USDEUR_GBPEUR_...        6592     -5249.7  \n",
       "19  GBP_CADGBP_CHFGBP_JPYGBP_NZDGBP_USDEUR_GBPEUR_...       11629     -7758.9  "
      ]
     },
     "execution_count": 21,
     "metadata": {},
     "output_type": "execute_result"
    }
   ],
   "source": [
    "df_all_gains.head()"
   ]
  },
  {
   "cell_type": "code",
   "execution_count": 22,
   "metadata": {},
   "outputs": [],
   "source": [
    "ma_8_16 = ma_test_res[ma_test_res.CROSS == 'MA_8_16'].copy()"
   ]
  },
  {
   "cell_type": "code",
   "execution_count": 25,
   "metadata": {},
   "outputs": [],
   "source": [
    "ma_8_16.sort_values(by=\"total_gain\", ascending=False, inplace=True)"
   ]
  },
  {
   "cell_type": "code",
   "execution_count": 28,
   "metadata": {},
   "outputs": [],
   "source": [
    "total_p = len(ma_8_16.pair.unique())"
   ]
  },
  {
   "cell_type": "code",
   "execution_count": 30,
   "metadata": {},
   "outputs": [
    {
     "data": {
      "text/plain": [
       "8"
      ]
     },
     "execution_count": 30,
     "metadata": {},
     "output_type": "execute_result"
    }
   ],
   "source": [
    "ma_8_16[ma_8_16.total_gain>0].shape[0]"
   ]
  },
  {
   "cell_type": "code",
   "execution_count": 31,
   "metadata": {},
   "outputs": [
    {
     "data": {
      "text/plain": [
       "0.38095238095238093"
      ]
     },
     "execution_count": 31,
     "metadata": {},
     "output_type": "execute_result"
    }
   ],
   "source": [
    "8/total_p"
   ]
  },
  {
   "cell_type": "code",
   "execution_count": 43,
   "metadata": {},
   "outputs": [
    {
     "name": "stdout",
     "output_type": "stream",
     "text": [
      "MA_8_16         8   38%\n",
      "MA_4_32         8   38%\n",
      "MA_8_32         7   33%\n",
      "MA_4_16         7   33%\n",
      "MA_4_8          7   33%\n",
      "MA_64_256       7   33%\n",
      "MA_16_32        4   19%\n",
      "MA_32_256       6   29%\n",
      "MA_24_256       5   24%\n",
      "MA_16_256       4   19%\n",
      "MA_8_256        4   19%\n",
      "MA_24_32        8   38%\n",
      "MA_8_64         6   29%\n",
      "MA_4_256        5   24%\n",
      "MA_8_96         4   19%\n",
      "MA_4_64         5   24%\n",
      "MA_24_64        5   24%\n",
      "MA_4_96         5   24%\n",
      "MA_16_64        4   19%\n",
      "MA_64_96        3   14%\n",
      "MA_16_96        4   19%\n",
      "MA_32_64        4   19%\n",
      "MA_64_128       2   10%\n",
      "MA_4_128        2   10%\n",
      "MA_32_128       1    5%\n",
      "MA_8_128        3   14%\n",
      "MA_32_96        3   14%\n",
      "MA_16_128       2   10%\n",
      "MA_24_96        1    5%\n",
      "MA_24_128       3   14%\n"
     ]
    }
   ],
   "source": [
    "for cross in df_all_gains.CROSS.unique():\n",
    "    df_temp = ma_test_res[ma_test_res.CROSS == cross]\n",
    "    total_p = df_temp.shape[0]\n",
    "    n_good = df_temp[df_temp.total_gain>0].shape[0]\n",
    "    print(f\"{cross:12} {n_good:4} {n_good/total_p*100:4.0f}%\")"
   ]
  }
 ],
 "metadata": {
  "kernelspec": {
   "display_name": "venv",
   "language": "python",
   "name": "python3"
  },
  "language_info": {
   "codemirror_mode": {
    "name": "ipython",
    "version": 3
   },
   "file_extension": ".py",
   "mimetype": "text/x-python",
   "name": "python",
   "nbconvert_exporter": "python",
   "pygments_lexer": "ipython3",
   "version": "3.11.3"
  },
  "orig_nbformat": 4
 },
 "nbformat": 4,
 "nbformat_minor": 2
}
