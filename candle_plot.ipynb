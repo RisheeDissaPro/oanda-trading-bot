{
 "cells": [
  {
   "cell_type": "code",
   "execution_count": 1,
   "metadata": {},
   "outputs": [],
   "source": [
    "import pandas as pd\n",
    "import utils \n",
    "import plotly.graph_objects as go \n",
    "import instrument"
   ]
  },
  {
   "cell_type": "code",
   "execution_count": 2,
   "metadata": {},
   "outputs": [],
   "source": [
    "pair = \"CAD_CHF\"\n",
    "granularity = \"H1\"\n",
    "ma_list=[16,64]\n",
    "i_pair = instrument.Instrument.get_instrument_by_name(pair)"
   ]
  },
  {
   "cell_type": "code",
   "execution_count": 3,
   "metadata": {},
   "outputs": [],
   "source": [
    "df = pd.read_pickle(utils.get_his_data_filename(pair, granularity))\n",
    "non_cols = [\"time\", \"volume\"]\n",
    "mod_cols = [x for x in df.columns if x not in non_cols]\n",
    "df[mod_cols] = df[mod_cols].apply(pd.to_numeric)"
   ]
  },
  {
   "cell_type": "code",
   "execution_count": 4,
   "metadata": {},
   "outputs": [],
   "source": [
    "df_ma = df[[\"time\", \"mid_o\", \"mid_h\", \"mid_l\", \"mid_c\"]].copy()\n",
    "for ma in ma_list:\n",
    "    df_ma[f'MA_{ma}'] = df.mid_c.rolling(window=ma).mean()\n",
    "df_ma.dropna(inplace=True)\n",
    "df_ma.reset_index(drop=True, inplace=True)"
   ]
  },
  {
   "cell_type": "code",
   "execution_count": 5,
   "metadata": {},
   "outputs": [
    {
     "data": {
      "text/html": [
       "<div>\n",
       "<style scoped>\n",
       "    .dataframe tbody tr th:only-of-type {\n",
       "        vertical-align: middle;\n",
       "    }\n",
       "\n",
       "    .dataframe tbody tr th {\n",
       "        vertical-align: top;\n",
       "    }\n",
       "\n",
       "    .dataframe thead th {\n",
       "        text-align: right;\n",
       "    }\n",
       "</style>\n",
       "<table border=\"1\" class=\"dataframe\">\n",
       "  <thead>\n",
       "    <tr style=\"text-align: right;\">\n",
       "      <th></th>\n",
       "      <th>time</th>\n",
       "      <th>mid_o</th>\n",
       "      <th>mid_h</th>\n",
       "      <th>mid_l</th>\n",
       "      <th>mid_c</th>\n",
       "      <th>MA_16</th>\n",
       "      <th>MA_64</th>\n",
       "    </tr>\n",
       "  </thead>\n",
       "  <tbody>\n",
       "    <tr>\n",
       "      <th>0</th>\n",
       "      <td>2022-09-27T16:00:00.000000000Z</td>\n",
       "      <td>0.72040</td>\n",
       "      <td>0.72054</td>\n",
       "      <td>0.71872</td>\n",
       "      <td>0.71974</td>\n",
       "      <td>0.722279</td>\n",
       "      <td>0.723344</td>\n",
       "    </tr>\n",
       "    <tr>\n",
       "      <th>1</th>\n",
       "      <td>2022-09-27T17:00:00.000000000Z</td>\n",
       "      <td>0.71972</td>\n",
       "      <td>0.72244</td>\n",
       "      <td>0.71946</td>\n",
       "      <td>0.72240</td>\n",
       "      <td>0.722137</td>\n",
       "      <td>0.723294</td>\n",
       "    </tr>\n",
       "    <tr>\n",
       "      <th>2</th>\n",
       "      <td>2022-09-27T18:00:00.000000000Z</td>\n",
       "      <td>0.72238</td>\n",
       "      <td>0.72327</td>\n",
       "      <td>0.72164</td>\n",
       "      <td>0.72296</td>\n",
       "      <td>0.722044</td>\n",
       "      <td>0.723250</td>\n",
       "    </tr>\n",
       "    <tr>\n",
       "      <th>3</th>\n",
       "      <td>2022-09-27T19:00:00.000000000Z</td>\n",
       "      <td>0.72296</td>\n",
       "      <td>0.72306</td>\n",
       "      <td>0.72236</td>\n",
       "      <td>0.72260</td>\n",
       "      <td>0.721977</td>\n",
       "      <td>0.723203</td>\n",
       "    </tr>\n",
       "    <tr>\n",
       "      <th>4</th>\n",
       "      <td>2022-09-27T20:00:00.000000000Z</td>\n",
       "      <td>0.72258</td>\n",
       "      <td>0.72288</td>\n",
       "      <td>0.72236</td>\n",
       "      <td>0.72284</td>\n",
       "      <td>0.721894</td>\n",
       "      <td>0.723168</td>\n",
       "    </tr>\n",
       "  </tbody>\n",
       "</table>\n",
       "</div>"
      ],
      "text/plain": [
       "                             time    mid_o    mid_h    mid_l    mid_c   \n",
       "0  2022-09-27T16:00:00.000000000Z  0.72040  0.72054  0.71872  0.71974  \\\n",
       "1  2022-09-27T17:00:00.000000000Z  0.71972  0.72244  0.71946  0.72240   \n",
       "2  2022-09-27T18:00:00.000000000Z  0.72238  0.72327  0.72164  0.72296   \n",
       "3  2022-09-27T19:00:00.000000000Z  0.72296  0.72306  0.72236  0.72260   \n",
       "4  2022-09-27T20:00:00.000000000Z  0.72258  0.72288  0.72236  0.72284   \n",
       "\n",
       "      MA_16     MA_64  \n",
       "0  0.722279  0.723344  \n",
       "1  0.722137  0.723294  \n",
       "2  0.722044  0.723250  \n",
       "3  0.721977  0.723203  \n",
       "4  0.721894  0.723168  "
      ]
     },
     "execution_count": 5,
     "metadata": {},
     "output_type": "execute_result"
    }
   ],
   "source": [
    "df_ma.head()"
   ]
  },
  {
   "cell_type": "code",
   "execution_count": 6,
   "metadata": {},
   "outputs": [],
   "source": [
    "def is_trade(row):\n",
    "    if row.DIFF >= 0 and row.DIFF_PREV < 0:\n",
    "        return 1 \n",
    "    if row.DIFF <= 0 and row.DIFF_PREV > 0:\n",
    "        return -1 \n",
    "    return 0"
   ]
  },
  {
   "cell_type": "code",
   "execution_count": 7,
   "metadata": {},
   "outputs": [],
   "source": [
    "df_ma['DIFF'] = df_ma.MA_16 - df_ma.MA_64\n",
    "df_ma['DIFF_PREV'] = df_ma.DIFF.shift(1)\n",
    "df_ma['IS_TRADE'] = df_ma.apply(is_trade, axis=1)\n",
    "df_trades = df_ma[df_ma.IS_TRADE!=0].copy()"
   ]
  },
  {
   "cell_type": "code",
   "execution_count": 8,
   "metadata": {},
   "outputs": [
    {
     "data": {
      "text/html": [
       "<div>\n",
       "<style scoped>\n",
       "    .dataframe tbody tr th:only-of-type {\n",
       "        vertical-align: middle;\n",
       "    }\n",
       "\n",
       "    .dataframe tbody tr th {\n",
       "        vertical-align: top;\n",
       "    }\n",
       "\n",
       "    .dataframe thead th {\n",
       "        text-align: right;\n",
       "    }\n",
       "</style>\n",
       "<table border=\"1\" class=\"dataframe\">\n",
       "  <thead>\n",
       "    <tr style=\"text-align: right;\">\n",
       "      <th></th>\n",
       "      <th>time</th>\n",
       "      <th>mid_o</th>\n",
       "      <th>mid_h</th>\n",
       "      <th>mid_l</th>\n",
       "      <th>mid_c</th>\n",
       "      <th>MA_16</th>\n",
       "      <th>MA_64</th>\n",
       "      <th>DIFF</th>\n",
       "      <th>DIFF_PREV</th>\n",
       "      <th>IS_TRADE</th>\n",
       "    </tr>\n",
       "  </thead>\n",
       "  <tbody>\n",
       "    <tr>\n",
       "      <th>85</th>\n",
       "      <td>2022-10-03T05:00:00.000000000Z</td>\n",
       "      <td>0.71641</td>\n",
       "      <td>0.71670</td>\n",
       "      <td>0.71576</td>\n",
       "      <td>0.71598</td>\n",
       "      <td>0.715024</td>\n",
       "      <td>0.715018</td>\n",
       "      <td>0.000005</td>\n",
       "      <td>-0.000172</td>\n",
       "      <td>1</td>\n",
       "    </tr>\n",
       "    <tr>\n",
       "      <th>143</th>\n",
       "      <td>2022-10-05T15:00:00.000000000Z</td>\n",
       "      <td>0.72038</td>\n",
       "      <td>0.72110</td>\n",
       "      <td>0.71984</td>\n",
       "      <td>0.72016</td>\n",
       "      <td>0.723569</td>\n",
       "      <td>0.723768</td>\n",
       "      <td>-0.000199</td>\n",
       "      <td>0.000158</td>\n",
       "      <td>-1</td>\n",
       "    </tr>\n",
       "    <tr>\n",
       "      <th>191</th>\n",
       "      <td>2022-10-07T15:00:00.000000000Z</td>\n",
       "      <td>0.72494</td>\n",
       "      <td>0.72583</td>\n",
       "      <td>0.72402</td>\n",
       "      <td>0.72411</td>\n",
       "      <td>0.721911</td>\n",
       "      <td>0.721906</td>\n",
       "      <td>0.000005</td>\n",
       "      <td>-0.000231</td>\n",
       "      <td>1</td>\n",
       "    </tr>\n",
       "    <tr>\n",
       "      <th>236</th>\n",
       "      <td>2022-10-11T12:00:00.000000000Z</td>\n",
       "      <td>0.72240</td>\n",
       "      <td>0.72391</td>\n",
       "      <td>0.72158</td>\n",
       "      <td>0.72384</td>\n",
       "      <td>0.723714</td>\n",
       "      <td>0.723847</td>\n",
       "      <td>-0.000134</td>\n",
       "      <td>0.000026</td>\n",
       "      <td>-1</td>\n",
       "    </tr>\n",
       "    <tr>\n",
       "      <th>287</th>\n",
       "      <td>2022-10-13T15:00:00.000000000Z</td>\n",
       "      <td>0.72356</td>\n",
       "      <td>0.72684</td>\n",
       "      <td>0.72328</td>\n",
       "      <td>0.72660</td>\n",
       "      <td>0.722817</td>\n",
       "      <td>0.722647</td>\n",
       "      <td>0.000169</td>\n",
       "      <td>-0.000106</td>\n",
       "      <td>1</td>\n",
       "    </tr>\n",
       "  </tbody>\n",
       "</table>\n",
       "</div>"
      ],
      "text/plain": [
       "                               time    mid_o    mid_h    mid_l    mid_c   \n",
       "85   2022-10-03T05:00:00.000000000Z  0.71641  0.71670  0.71576  0.71598  \\\n",
       "143  2022-10-05T15:00:00.000000000Z  0.72038  0.72110  0.71984  0.72016   \n",
       "191  2022-10-07T15:00:00.000000000Z  0.72494  0.72583  0.72402  0.72411   \n",
       "236  2022-10-11T12:00:00.000000000Z  0.72240  0.72391  0.72158  0.72384   \n",
       "287  2022-10-13T15:00:00.000000000Z  0.72356  0.72684  0.72328  0.72660   \n",
       "\n",
       "        MA_16     MA_64      DIFF  DIFF_PREV  IS_TRADE  \n",
       "85   0.715024  0.715018  0.000005  -0.000172         1  \n",
       "143  0.723569  0.723768 -0.000199   0.000158        -1  \n",
       "191  0.721911  0.721906  0.000005  -0.000231         1  \n",
       "236  0.723714  0.723847 -0.000134   0.000026        -1  \n",
       "287  0.722817  0.722647  0.000169  -0.000106         1  "
      ]
     },
     "execution_count": 8,
     "metadata": {},
     "output_type": "execute_result"
    }
   ],
   "source": [
    "df_trades.head()"
   ]
  },
  {
   "cell_type": "code",
   "execution_count": 9,
   "metadata": {},
   "outputs": [],
   "source": [
    "df_trades[\"DELTA\"] = (df_trades.mid_c.diff() / i_pair.pipLocation).shift(-1)\n",
    "df_trades[\"GAIN\"] = df_trades[\"DELTA\"] * df_trades[\"IS_TRADE\"]"
   ]
  },
  {
   "cell_type": "code",
   "execution_count": 10,
   "metadata": {},
   "outputs": [
    {
     "data": {
      "text/plain": [
       "16.30000000000134"
      ]
     },
     "execution_count": 10,
     "metadata": {},
     "output_type": "execute_result"
    }
   ],
   "source": [
    "df_trades[\"GAIN\"].sum()"
   ]
  },
  {
   "cell_type": "code",
   "execution_count": 11,
   "metadata": {},
   "outputs": [],
   "source": [
    "df_plot = df_ma.iloc[0:100].copy()"
   ]
  },
  {
   "cell_type": "code",
   "execution_count": 12,
   "metadata": {},
   "outputs": [
    {
     "data": {
      "text/plain": [
       "(100, 10)"
      ]
     },
     "execution_count": 12,
     "metadata": {},
     "output_type": "execute_result"
    }
   ],
   "source": [
    "df_plot.shape"
   ]
  },
  {
   "cell_type": "code",
   "execution_count": 13,
   "metadata": {},
   "outputs": [
    {
     "ename": "AttributeError",
     "evalue": "module 'plotly.validators.scatter' has no attribute 'LineValidator'",
     "output_type": "error",
     "traceback": [
      "\u001b[1;31m---------------------------------------------------------------------------\u001b[0m",
      "\u001b[1;31mAttributeError\u001b[0m                            Traceback (most recent call last)",
      "Cell \u001b[1;32mIn[13], line 12\u001b[0m\n\u001b[0;32m     10\u001b[0m \u001b[39mfor\u001b[39;00m ma \u001b[39min\u001b[39;00m ma_list:  \n\u001b[0;32m     11\u001b[0m     col \u001b[39m=\u001b[39m \u001b[39mf\u001b[39m\u001b[39m\"\u001b[39m\u001b[39mMA_\u001b[39m\u001b[39m{\u001b[39;00mma\u001b[39m}\u001b[39;00m\u001b[39m\"\u001b[39m\n\u001b[1;32m---> 12\u001b[0m     fig\u001b[39m.\u001b[39madd_trace(go\u001b[39m.\u001b[39;49mScatter(x\u001b[39m=\u001b[39;49mdf_plot\u001b[39m.\u001b[39;49mtime, \n\u001b[0;32m     13\u001b[0m         y\u001b[39m=\u001b[39;49mdf_plot[col],\n\u001b[0;32m     14\u001b[0m         line\u001b[39m=\u001b[39;49m\u001b[39mdict\u001b[39;49m(width\u001b[39m=\u001b[39;49m\u001b[39m2\u001b[39;49m),\n\u001b[0;32m     15\u001b[0m         line_shape\u001b[39m=\u001b[39;49m\u001b[39m'\u001b[39;49m\u001b[39mspline\u001b[39;49m\u001b[39m'\u001b[39;49m,\n\u001b[0;32m     16\u001b[0m         name\u001b[39m=\u001b[39;49mcol\n\u001b[0;32m     17\u001b[0m         ))\n\u001b[0;32m     18\u001b[0m fig\u001b[39m.\u001b[39mupdate_layout(width\u001b[39m=\u001b[39m\u001b[39m1000\u001b[39m,height\u001b[39m=\u001b[39m\u001b[39m400\u001b[39m,\n\u001b[0;32m     19\u001b[0m     margin\u001b[39m=\u001b[39m\u001b[39mdict\u001b[39m(l\u001b[39m=\u001b[39m\u001b[39m10\u001b[39m,r\u001b[39m=\u001b[39m\u001b[39m10\u001b[39m,b\u001b[39m=\u001b[39m\u001b[39m10\u001b[39m,t\u001b[39m=\u001b[39m\u001b[39m10\u001b[39m),\n\u001b[0;32m     20\u001b[0m     font\u001b[39m=\u001b[39m\u001b[39mdict\u001b[39m(size\u001b[39m=\u001b[39m\u001b[39m10\u001b[39m,color\u001b[39m=\u001b[39m\u001b[39m\"\u001b[39m\u001b[39m#e1e1e1\u001b[39m\u001b[39m\"\u001b[39m),\n\u001b[0;32m     21\u001b[0m     paper_bgcolor\u001b[39m=\u001b[39m\u001b[39m\"\u001b[39m\u001b[39m#1e1e1e\u001b[39m\u001b[39m\"\u001b[39m,\n\u001b[0;32m     22\u001b[0m     plot_bgcolor\u001b[39m=\u001b[39m\u001b[39m\"\u001b[39m\u001b[39m#1e1e1e\u001b[39m\u001b[39m\"\u001b[39m)\n\u001b[0;32m     23\u001b[0m fig\u001b[39m.\u001b[39mupdate_xaxes(\n\u001b[0;32m     24\u001b[0m     gridcolor\u001b[39m=\u001b[39m\u001b[39m\"\u001b[39m\u001b[39m#1f292f\u001b[39m\u001b[39m\"\u001b[39m,\n\u001b[0;32m     25\u001b[0m     showgrid\u001b[39m=\u001b[39m\u001b[39mTrue\u001b[39;00m,fixedrange\u001b[39m=\u001b[39m\u001b[39mTrue\u001b[39;00m,rangeslider\u001b[39m=\u001b[39m\u001b[39mdict\u001b[39m(visible\u001b[39m=\u001b[39m\u001b[39mFalse\u001b[39;00m)\n\u001b[0;32m     26\u001b[0m )\n",
      "File \u001b[1;32md:\\Studies\\Programming\\VS Code\\oanda-trading-bot\\venv\\Lib\\site-packages\\plotly\\graph_objs\\_scatter.py:3331\u001b[0m, in \u001b[0;36mScatter.__init__\u001b[1;34m(self, arg, alignmentgroup, cliponaxis, connectgaps, customdata, customdatasrc, dx, dy, error_x, error_y, fill, fillcolor, fillpattern, groupnorm, hoverinfo, hoverinfosrc, hoverlabel, hoveron, hovertemplate, hovertemplatesrc, hovertext, hovertextsrc, ids, idssrc, legendgroup, legendgrouptitle, legendrank, legendwidth, line, marker, meta, metasrc, mode, name, offsetgroup, opacity, orientation, selected, selectedpoints, showlegend, stackgaps, stackgroup, stream, text, textfont, textposition, textpositionsrc, textsrc, texttemplate, texttemplatesrc, uid, uirevision, unselected, visible, x, x0, xaxis, xcalendar, xhoverformat, xperiod, xperiod0, xperiodalignment, xsrc, y, y0, yaxis, ycalendar, yhoverformat, yperiod, yperiod0, yperiodalignment, ysrc, **kwargs)\u001b[0m\n\u001b[0;32m   3329\u001b[0m _v \u001b[39m=\u001b[39m line \u001b[39mif\u001b[39;00m line \u001b[39mis\u001b[39;00m \u001b[39mnot\u001b[39;00m \u001b[39mNone\u001b[39;00m \u001b[39melse\u001b[39;00m _v\n\u001b[0;32m   3330\u001b[0m \u001b[39mif\u001b[39;00m _v \u001b[39mis\u001b[39;00m \u001b[39mnot\u001b[39;00m \u001b[39mNone\u001b[39;00m:\n\u001b[1;32m-> 3331\u001b[0m     \u001b[39mself\u001b[39;49m[\u001b[39m\"\u001b[39;49m\u001b[39mline\u001b[39;49m\u001b[39m\"\u001b[39;49m] \u001b[39m=\u001b[39m _v\n\u001b[0;32m   3332\u001b[0m _v \u001b[39m=\u001b[39m arg\u001b[39m.\u001b[39mpop(\u001b[39m\"\u001b[39m\u001b[39mmarker\u001b[39m\u001b[39m\"\u001b[39m, \u001b[39mNone\u001b[39;00m)\n\u001b[0;32m   3333\u001b[0m _v \u001b[39m=\u001b[39m marker \u001b[39mif\u001b[39;00m marker \u001b[39mis\u001b[39;00m \u001b[39mnot\u001b[39;00m \u001b[39mNone\u001b[39;00m \u001b[39melse\u001b[39;00m _v\n",
      "File \u001b[1;32md:\\Studies\\Programming\\VS Code\\oanda-trading-bot\\venv\\Lib\\site-packages\\plotly\\basedatatypes.py:4838\u001b[0m, in \u001b[0;36mBasePlotlyType.__setitem__\u001b[1;34m(self, prop, value)\u001b[0m\n\u001b[0;32m   4835\u001b[0m     \u001b[39mself\u001b[39m\u001b[39m.\u001b[39m_raise_on_invalid_property_error()(prop)\n\u001b[0;32m   4837\u001b[0m \u001b[39m# ### Get validator for this property ###\u001b[39;00m\n\u001b[1;32m-> 4838\u001b[0m validator \u001b[39m=\u001b[39m \u001b[39mself\u001b[39;49m\u001b[39m.\u001b[39;49m_get_validator(prop)\n\u001b[0;32m   4840\u001b[0m \u001b[39m# ### Handle compound property ###\u001b[39;00m\n\u001b[0;32m   4841\u001b[0m \u001b[39mif\u001b[39;00m \u001b[39misinstance\u001b[39m(validator, CompoundValidator):\n",
      "File \u001b[1;32md:\\Studies\\Programming\\VS Code\\oanda-trading-bot\\venv\\Lib\\site-packages\\plotly\\basedatatypes.py:4320\u001b[0m, in \u001b[0;36mBasePlotlyType._get_validator\u001b[1;34m(self, prop)\u001b[0m\n\u001b[0;32m   4317\u001b[0m \u001b[39mdef\u001b[39;00m \u001b[39m_get_validator\u001b[39m(\u001b[39mself\u001b[39m, prop):\n\u001b[0;32m   4318\u001b[0m     \u001b[39mfrom\u001b[39;00m \u001b[39m.\u001b[39;00m\u001b[39mvalidator_cache\u001b[39;00m \u001b[39mimport\u001b[39;00m ValidatorCache\n\u001b[1;32m-> 4320\u001b[0m     \u001b[39mreturn\u001b[39;00m ValidatorCache\u001b[39m.\u001b[39;49mget_validator(\u001b[39mself\u001b[39;49m\u001b[39m.\u001b[39;49m_path_str, prop)\n",
      "File \u001b[1;32md:\\Studies\\Programming\\VS Code\\oanda-trading-bot\\venv\\Lib\\site-packages\\plotly\\validator_cache.py:28\u001b[0m, in \u001b[0;36mValidatorCache.get_validator\u001b[1;34m(parent_path, prop_name)\u001b[0m\n\u001b[0;32m     26\u001b[0m         lookup_name \u001b[39m=\u001b[39m lookup_name \u001b[39mor\u001b[39;00m prop_name\n\u001b[0;32m     27\u001b[0m         class_name \u001b[39m=\u001b[39m lookup_name\u001b[39m.\u001b[39mtitle() \u001b[39m+\u001b[39m \u001b[39m\"\u001b[39m\u001b[39mValidator\u001b[39m\u001b[39m\"\u001b[39m\n\u001b[1;32m---> 28\u001b[0m         validator \u001b[39m=\u001b[39m \u001b[39mgetattr\u001b[39m(\n\u001b[0;32m     29\u001b[0m             importlib\u001b[39m.\u001b[39mimport_module(\u001b[39m\"\u001b[39m\u001b[39mplotly.validators.\u001b[39m\u001b[39m\"\u001b[39m \u001b[39m+\u001b[39m parent_path),\n\u001b[0;32m     30\u001b[0m             class_name,\n\u001b[0;32m     31\u001b[0m         )(plotly_name\u001b[39m=\u001b[39mprop_name)\n\u001b[0;32m     32\u001b[0m     ValidatorCache\u001b[39m.\u001b[39m_cache[key] \u001b[39m=\u001b[39m validator\n\u001b[0;32m     34\u001b[0m \u001b[39mreturn\u001b[39;00m ValidatorCache\u001b[39m.\u001b[39m_cache[key]\n",
      "\u001b[1;31mAttributeError\u001b[0m: module 'plotly.validators.scatter' has no attribute 'LineValidator'"
     ]
    }
   ],
   "source": [
    "fig = go.Figure()\n",
    "fig.add_trace(go.Candlestick(\n",
    "    x=df_plot.time, open=df_plot.mid_o, high=df_plot.mid_h, low=df_plot.mid_l, close=df_plot.mid_c,\n",
    "    line=dict(width=1), opacity=1,\n",
    "    increasing_fillcolor='#24A06B',\n",
    "    decreasing_fillcolor=\"#CC2E3C\",\n",
    "    increasing_line_color='#2EC886',  \n",
    "    decreasing_line_color='#FF3A4C'\n",
    "))\n",
    "for ma in ma_list:  \n",
    "    col = f\"MA_{ma}\"\n",
    "    fig.add_trace(go.Scatter(x=df_plot.time, \n",
    "        y=df_plot[col],\n",
    "        line=dict(width=2),\n",
    "        line_shape='spline',\n",
    "        name=col\n",
    "        ))\n",
    "fig.update_layout(width=1000,height=400,\n",
    "    margin=dict(l=10,r=10,b=10,t=10),\n",
    "    font=dict(size=10,color=\"#e1e1e1\"),\n",
    "    paper_bgcolor=\"#1e1e1e\",\n",
    "    plot_bgcolor=\"#1e1e1e\")\n",
    "fig.update_xaxes(\n",
    "    gridcolor=\"#1f292f\",\n",
    "    showgrid=True,fixedrange=True,rangeslider=dict(visible=False)\n",
    ")\n",
    "fig.update_yaxes(\n",
    "    gridcolor=\"#1f292f\",\n",
    "    showgrid=True\n",
    ")\n",
    "fig.show()"
   ]
  },
  {
   "cell_type": "code",
   "execution_count": null,
   "metadata": {},
   "outputs": [],
   "source": []
  }
 ],
 "metadata": {
  "kernelspec": {
   "display_name": "venv",
   "language": "python",
   "name": "python3"
  },
  "language_info": {
   "codemirror_mode": {
    "name": "ipython",
    "version": 3
   },
   "file_extension": ".py",
   "mimetype": "text/x-python",
   "name": "python",
   "nbconvert_exporter": "python",
   "pygments_lexer": "ipython3",
   "version": "3.11.3"
  },
  "orig_nbformat": 4
 },
 "nbformat": 4,
 "nbformat_minor": 2
}
