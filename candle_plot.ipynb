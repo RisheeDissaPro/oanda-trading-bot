{
 "cells": [
  {
   "cell_type": "code",
   "execution_count": null,
   "metadata": {},
   "outputs": [],
   "source": [
    "import pandas as pd\n",
    "import utils \n",
    "import plotly.graph_objects as go \n",
    "import instrument"
   ]
  },
  {
   "cell_type": "code",
   "execution_count": null,
   "metadata": {},
   "outputs": [],
   "source": [
    "pair = \"CAD_CHF\"\n",
    "granularity = \"H1\"\n",
    "ma_list=[16,64]\n",
    "i_pair = instrument.Instrument.get_instrument_by_name(pair)"
   ]
  },
  {
   "cell_type": "code",
   "execution_count": null,
   "metadata": {},
   "outputs": [],
   "source": [
    "df = pd.read_pickle(utils.get_his_data_filename(pair, granularity))\n",
    "non_cols = [\"time\", \"volume\"]\n",
    "mod_cols = [x for x in df.columns if x not in non_cols]\n",
    "df[mod_cols] = df[mod_cols].apply(pd.to_numeric)"
   ]
  },
  {
   "cell_type": "code",
   "execution_count": null,
   "metadata": {},
   "outputs": [],
   "source": [
    "df_ma = df[[\"time\", \"mid_o\", \"mid_h\", \"mid_l\", \"mid_c\"]].copy()\n",
    "for ma in ma_list:\n",
    "    df_ma[f'MA_{ma}'] = df.mid_c.rolling(window=ma).mean()\n",
    "df_ma.dropna(inplace=True)\n",
    "df_ma.reset_index(drop=True, inplace=True)"
   ]
  },
  {
   "cell_type": "code",
   "execution_count": null,
   "metadata": {},
   "outputs": [],
   "source": [
    "df_ma.head()"
   ]
  },
  {
   "cell_type": "code",
   "execution_count": null,
   "metadata": {},
   "outputs": [],
   "source": [
    "def is_trade(row):\n",
    "    if row.DIFF >= 0 and row.DIFF_PREV < 0:\n",
    "        return 1 \n",
    "    if row.DIFF <= 0 and row.DIFF_PREV > 0:\n",
    "        return -1 \n",
    "    return 0"
   ]
  },
  {
   "cell_type": "code",
   "execution_count": null,
   "metadata": {},
   "outputs": [],
   "source": [
    "df_ma['DIFF'] = df_ma.MA_16 - df_ma.MA_64\n",
    "df_ma['DIFF_PREV'] = df_ma.DIFF.shift(1)\n",
    "df_ma['IS_TRADE'] = df_ma.apply(is_trade, axis=1)\n",
    "df_trades = df_ma[df_ma.IS_TRADE!=0].copy()"
   ]
  },
  {
   "cell_type": "code",
   "execution_count": null,
   "metadata": {},
   "outputs": [],
   "source": [
    "df_trades.head()"
   ]
  },
  {
   "cell_type": "code",
   "execution_count": null,
   "metadata": {},
   "outputs": [],
   "source": [
    "df_trades[\"DELTA\"] = (df_trades.mid_c.diff() / i_pair.pipLocation).shift(-1)\n",
    "df_trades[\"GAIN\"] = df_trades[\"DELTA\"] * df_trades[\"IS_TRADE\"]"
   ]
  },
  {
   "cell_type": "code",
   "execution_count": null,
   "metadata": {},
   "outputs": [],
   "source": [
    "df_trades[\"GAIN\"].sum()"
   ]
  },
  {
   "cell_type": "code",
   "execution_count": null,
   "metadata": {},
   "outputs": [],
   "source": [
    "from dateutil.parser import *\n",
    "df_trades[\"time\"] = [parse(x) for x in df_trades.time]"
   ]
  },
  {
   "cell_type": "code",
   "execution_count": null,
   "metadata": {},
   "outputs": [],
   "source": [
    "df_trades[\"DURATION\"] = df_trades.time.diff().shift(-1)"
   ]
  },
  {
   "cell_type": "code",
   "execution_count": null,
   "metadata": {},
   "outputs": [],
   "source": [
    "df_trades.info()"
   ]
  },
  {
   "cell_type": "code",
   "execution_count": 51,
   "metadata": {},
   "outputs": [],
   "source": [
    "df_all = pd.read_pickle(\"all_trades.pkl\")"
   ]
  },
  {
   "cell_type": "code",
   "execution_count": 52,
   "metadata": {},
   "outputs": [
    {
     "data": {
      "text/html": [
       "<div>\n",
       "<style scoped>\n",
       "    .dataframe tbody tr th:only-of-type {\n",
       "        vertical-align: middle;\n",
       "    }\n",
       "\n",
       "    .dataframe tbody tr th {\n",
       "        vertical-align: top;\n",
       "    }\n",
       "\n",
       "    .dataframe thead th {\n",
       "        text-align: right;\n",
       "    }\n",
       "</style>\n",
       "<table border=\"1\" class=\"dataframe\">\n",
       "  <thead>\n",
       "    <tr style=\"text-align: right;\">\n",
       "      <th></th>\n",
       "      <th>mid_c</th>\n",
       "      <th>DIFF</th>\n",
       "      <th>DIFF_PREV</th>\n",
       "      <th>IS_TRADE</th>\n",
       "      <th>DELTA</th>\n",
       "      <th>GAIN</th>\n",
       "      <th>MALONG</th>\n",
       "      <th>MASHORT</th>\n",
       "      <th>DURATION</th>\n",
       "    </tr>\n",
       "  </thead>\n",
       "  <tbody>\n",
       "    <tr>\n",
       "      <th>count</th>\n",
       "      <td>66470.000000</td>\n",
       "      <td>6.647000e+04</td>\n",
       "      <td>6.647000e+04</td>\n",
       "      <td>66470.000000</td>\n",
       "      <td>66470.000000</td>\n",
       "      <td>66470.000000</td>\n",
       "      <td>66470.000000</td>\n",
       "      <td>66470.000000</td>\n",
       "      <td>66470.000000</td>\n",
       "    </tr>\n",
       "    <tr>\n",
       "      <th>mean</th>\n",
       "      <td>36.816329</td>\n",
       "      <td>-5.257852e-04</td>\n",
       "      <td>5.504369e-04</td>\n",
       "      <td>-0.002106</td>\n",
       "      <td>2.996401</td>\n",
       "      <td>-7.122518</td>\n",
       "      <td>12.127095</td>\n",
       "      <td>63.184835</td>\n",
       "      <td>50.326583</td>\n",
       "    </tr>\n",
       "    <tr>\n",
       "      <th>std</th>\n",
       "      <td>59.196538</td>\n",
       "      <td>3.382478e-02</td>\n",
       "      <td>3.239599e-02</td>\n",
       "      <td>1.000005</td>\n",
       "      <td>84.090244</td>\n",
       "      <td>83.841616</td>\n",
       "      <td>12.829569</td>\n",
       "      <td>65.661671</td>\n",
       "      <td>79.869579</td>\n",
       "    </tr>\n",
       "    <tr>\n",
       "      <th>min</th>\n",
       "      <td>0.544740</td>\n",
       "      <td>-8.646146e-01</td>\n",
       "      <td>-6.562969e-01</td>\n",
       "      <td>-1.000000</td>\n",
       "      <td>-812.900000</td>\n",
       "      <td>-606.300000</td>\n",
       "      <td>4.000000</td>\n",
       "      <td>8.000000</td>\n",
       "      <td>1.000000</td>\n",
       "    </tr>\n",
       "    <tr>\n",
       "      <th>25%</th>\n",
       "      <td>0.916490</td>\n",
       "      <td>-2.543750e-04</td>\n",
       "      <td>-2.463281e-04</td>\n",
       "      <td>-1.000000</td>\n",
       "      <td>-27.000000</td>\n",
       "      <td>-39.200000</td>\n",
       "      <td>4.000000</td>\n",
       "      <td>16.000000</td>\n",
       "      <td>6.000000</td>\n",
       "    </tr>\n",
       "    <tr>\n",
       "      <th>50%</th>\n",
       "      <td>1.347880</td>\n",
       "      <td>-2.604167e-07</td>\n",
       "      <td>6.250000e-07</td>\n",
       "      <td>-1.000000</td>\n",
       "      <td>1.700000</td>\n",
       "      <td>-13.200000</td>\n",
       "      <td>8.000000</td>\n",
       "      <td>32.000000</td>\n",
       "      <td>19.000000</td>\n",
       "    </tr>\n",
       "    <tr>\n",
       "      <th>75%</th>\n",
       "      <td>84.296000</td>\n",
       "      <td>2.513932e-04</td>\n",
       "      <td>2.512500e-04</td>\n",
       "      <td>1.000000</td>\n",
       "      <td>32.000000</td>\n",
       "      <td>10.400000</td>\n",
       "      <td>16.000000</td>\n",
       "      <td>96.000000</td>\n",
       "      <td>67.000000</td>\n",
       "    </tr>\n",
       "    <tr>\n",
       "      <th>max</th>\n",
       "      <td>172.111000</td>\n",
       "      <td>6.221250e-01</td>\n",
       "      <td>1.131125e+00</td>\n",
       "      <td>1.000000</td>\n",
       "      <td>1327.900000</td>\n",
       "      <td>1327.900000</td>\n",
       "      <td>64.000000</td>\n",
       "      <td>256.000000</td>\n",
       "      <td>1516.000000</td>\n",
       "    </tr>\n",
       "  </tbody>\n",
       "</table>\n",
       "</div>"
      ],
      "text/plain": [
       "              mid_c          DIFF     DIFF_PREV      IS_TRADE         DELTA   \n",
       "count  66470.000000  6.647000e+04  6.647000e+04  66470.000000  66470.000000  \\\n",
       "mean      36.816329 -5.257852e-04  5.504369e-04     -0.002106      2.996401   \n",
       "std       59.196538  3.382478e-02  3.239599e-02      1.000005     84.090244   \n",
       "min        0.544740 -8.646146e-01 -6.562969e-01     -1.000000   -812.900000   \n",
       "25%        0.916490 -2.543750e-04 -2.463281e-04     -1.000000    -27.000000   \n",
       "50%        1.347880 -2.604167e-07  6.250000e-07     -1.000000      1.700000   \n",
       "75%       84.296000  2.513932e-04  2.512500e-04      1.000000     32.000000   \n",
       "max      172.111000  6.221250e-01  1.131125e+00      1.000000   1327.900000   \n",
       "\n",
       "               GAIN        MALONG       MASHORT      DURATION  \n",
       "count  66470.000000  66470.000000  66470.000000  66470.000000  \n",
       "mean      -7.122518     12.127095     63.184835     50.326583  \n",
       "std       83.841616     12.829569     65.661671     79.869579  \n",
       "min     -606.300000      4.000000      8.000000      1.000000  \n",
       "25%      -39.200000      4.000000     16.000000      6.000000  \n",
       "50%      -13.200000      8.000000     32.000000     19.000000  \n",
       "75%       10.400000     16.000000     96.000000     67.000000  \n",
       "max     1327.900000     64.000000    256.000000   1516.000000  "
      ]
     },
     "execution_count": 52,
     "metadata": {},
     "output_type": "execute_result"
    }
   ],
   "source": [
    "df_all.describe()"
   ]
  },
  {
   "cell_type": "code",
   "execution_count": null,
   "metadata": {},
   "outputs": [],
   "source": [
    "df_plot = df_ma.iloc[:100].copy()"
   ]
  },
  {
   "cell_type": "code",
   "execution_count": null,
   "metadata": {},
   "outputs": [],
   "source": [
    "df_plot.shape"
   ]
  },
  {
   "cell_type": "code",
   "execution_count": null,
   "metadata": {},
   "outputs": [],
   "source": [
    "fig = go.Figure()\n",
    "fig.add_trace(go.Candlestick(\n",
    "    x=df_plot.time, open=df_plot.mid_o, high=df_plot.mid_h, low=df_plot.mid_l, close=df_plot.mid_c,\n",
    "    line=dict(width=1), opacity=1,\n",
    "    increasing_fillcolor='#24A06B',\n",
    "    decreasing_fillcolor=\"#CC2E3C\",\n",
    "    increasing_line_color='#2EC886',  \n",
    "    decreasing_line_color='#FF3A4C'\n",
    "))\n",
    "for ma in ma_list:  \n",
    "    col = f\"MA_{ma}\"\n",
    "    fig.add_trace(go.Scatter(x=df_plot.time, \n",
    "        y=df_plot[col],\n",
    "        line=dict(width=2),\n",
    "        line_shape='spline',\n",
    "        name=col\n",
    "        ))\n",
    "fig.update_layout(width=1000,height=400,\n",
    "    margin=dict(l=10,r=10,b=10,t=10),\n",
    "    font=dict(size=10,color=\"#e1e1e1\"),\n",
    "    paper_bgcolor=\"#1e1e1e\",\n",
    "    plot_bgcolor=\"#1e1e1e\")\n",
    "fig.update_xaxes(\n",
    "    gridcolor=\"#1f292f\",\n",
    "    showgrid=True,fixedrange=True,rangeslider=dict(visible=False)\n",
    ")\n",
    "fig.update_yaxes(\n",
    "    gridcolor=\"#1f292f\",\n",
    "    showgrid=True\n",
    ")\n",
    "fig.show()"
   ]
  },
  {
   "cell_type": "code",
   "execution_count": null,
   "metadata": {},
   "outputs": [],
   "source": []
  }
 ],
 "metadata": {
  "kernelspec": {
   "display_name": "venv",
   "language": "python",
   "name": "python3"
  },
  "language_info": {
   "codemirror_mode": {
    "name": "ipython",
    "version": 3
   },
   "file_extension": ".py",
   "mimetype": "text/x-python",
   "name": "python",
   "nbconvert_exporter": "python",
   "pygments_lexer": "ipython3",
   "version": "3.11.3"
  },
  "orig_nbformat": 4
 },
 "nbformat": 4,
 "nbformat_minor": 2
}
