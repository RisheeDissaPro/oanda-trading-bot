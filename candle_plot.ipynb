{
 "cells": [
  {
   "cell_type": "code",
   "execution_count": 51,
   "metadata": {},
   "outputs": [],
   "source": [
    "import pandas as pd\n",
    "import utils \n",
    "import plotly.graph_objects as go \n",
    "import instrument"
   ]
  },
  {
   "cell_type": "code",
   "execution_count": 52,
   "metadata": {},
   "outputs": [],
   "source": [
    "pair = \"CAD_CHF\"\n",
    "granularity = \"H1\"\n",
    "ma_list=[16,64]\n",
    "i_pair = instrument.Instrument.get_instrument_by_name(pair)"
   ]
  },
  {
   "cell_type": "code",
   "execution_count": 53,
   "metadata": {},
   "outputs": [],
   "source": [
    "df = pd.read_pickle(utils.get_his_data_filename(pair, granularity))\n",
    "non_cols = [\"time\", \"volume\"]\n",
    "mod_cols = [x for x in df.columns if x not in non_cols]\n",
    "df[mod_cols] = df[mod_cols].apply(pd.to_numeric)"
   ]
  },
  {
   "cell_type": "code",
   "execution_count": 54,
   "metadata": {},
   "outputs": [],
   "source": [
    "df_ma = df[[\"time\", \"mid_o\", \"mid_h\", \"mid_l\", \"mid_c\"]].copy()\n",
    "for ma in ma_list:\n",
    "    df_ma[f'MA_{ma}'] = df.mid_c.rolling(window=ma).mean()\n",
    "df_ma.dropna(inplace=True)\n",
    "df_ma.reset_index(drop=True, inplace=True)"
   ]
  },
  {
   "cell_type": "code",
   "execution_count": 55,
   "metadata": {},
   "outputs": [
    {
     "data": {
      "text/html": [
       "<div>\n",
       "<style scoped>\n",
       "    .dataframe tbody tr th:only-of-type {\n",
       "        vertical-align: middle;\n",
       "    }\n",
       "\n",
       "    .dataframe tbody tr th {\n",
       "        vertical-align: top;\n",
       "    }\n",
       "\n",
       "    .dataframe thead th {\n",
       "        text-align: right;\n",
       "    }\n",
       "</style>\n",
       "<table border=\"1\" class=\"dataframe\">\n",
       "  <thead>\n",
       "    <tr style=\"text-align: right;\">\n",
       "      <th></th>\n",
       "      <th>time</th>\n",
       "      <th>mid_o</th>\n",
       "      <th>mid_h</th>\n",
       "      <th>mid_l</th>\n",
       "      <th>mid_c</th>\n",
       "      <th>MA_16</th>\n",
       "      <th>MA_64</th>\n",
       "    </tr>\n",
       "  </thead>\n",
       "  <tbody>\n",
       "    <tr>\n",
       "      <th>0</th>\n",
       "      <td>2022-09-23T03:00:00.000000000Z</td>\n",
       "      <td>0.72577</td>\n",
       "      <td>0.72596</td>\n",
       "      <td>0.72554</td>\n",
       "      <td>0.72563</td>\n",
       "      <td>0.725716</td>\n",
       "      <td>0.721941</td>\n",
       "    </tr>\n",
       "    <tr>\n",
       "      <th>1</th>\n",
       "      <td>2022-09-23T04:00:00.000000000Z</td>\n",
       "      <td>0.72563</td>\n",
       "      <td>0.72563</td>\n",
       "      <td>0.72490</td>\n",
       "      <td>0.72505</td>\n",
       "      <td>0.725556</td>\n",
       "      <td>0.721925</td>\n",
       "    </tr>\n",
       "    <tr>\n",
       "      <th>2</th>\n",
       "      <td>2022-09-23T05:00:00.000000000Z</td>\n",
       "      <td>0.72506</td>\n",
       "      <td>0.72579</td>\n",
       "      <td>0.72503</td>\n",
       "      <td>0.72571</td>\n",
       "      <td>0.725457</td>\n",
       "      <td>0.721938</td>\n",
       "    </tr>\n",
       "    <tr>\n",
       "      <th>3</th>\n",
       "      <td>2022-09-23T06:00:00.000000000Z</td>\n",
       "      <td>0.72567</td>\n",
       "      <td>0.72570</td>\n",
       "      <td>0.72452</td>\n",
       "      <td>0.72500</td>\n",
       "      <td>0.725285</td>\n",
       "      <td>0.721964</td>\n",
       "    </tr>\n",
       "    <tr>\n",
       "      <th>4</th>\n",
       "      <td>2022-09-23T07:00:00.000000000Z</td>\n",
       "      <td>0.72504</td>\n",
       "      <td>0.72572</td>\n",
       "      <td>0.72438</td>\n",
       "      <td>0.72524</td>\n",
       "      <td>0.725205</td>\n",
       "      <td>0.722018</td>\n",
       "    </tr>\n",
       "  </tbody>\n",
       "</table>\n",
       "</div>"
      ],
      "text/plain": [
       "                             time    mid_o    mid_h    mid_l    mid_c   \n",
       "0  2022-09-23T03:00:00.000000000Z  0.72577  0.72596  0.72554  0.72563  \\\n",
       "1  2022-09-23T04:00:00.000000000Z  0.72563  0.72563  0.72490  0.72505   \n",
       "2  2022-09-23T05:00:00.000000000Z  0.72506  0.72579  0.72503  0.72571   \n",
       "3  2022-09-23T06:00:00.000000000Z  0.72567  0.72570  0.72452  0.72500   \n",
       "4  2022-09-23T07:00:00.000000000Z  0.72504  0.72572  0.72438  0.72524   \n",
       "\n",
       "      MA_16     MA_64  \n",
       "0  0.725716  0.721941  \n",
       "1  0.725556  0.721925  \n",
       "2  0.725457  0.721938  \n",
       "3  0.725285  0.721964  \n",
       "4  0.725205  0.722018  "
      ]
     },
     "execution_count": 55,
     "metadata": {},
     "output_type": "execute_result"
    }
   ],
   "source": [
    "df_ma.head()"
   ]
  },
  {
   "cell_type": "code",
   "execution_count": 56,
   "metadata": {},
   "outputs": [],
   "source": [
    "def is_trade(row):\n",
    "    if row.DIFF >= 0 and row.DIFF_PREV < 0:\n",
    "        return 1 \n",
    "    if row.DIFF <= 0 and row.DIFF_PREV > 0:\n",
    "        return -1 \n",
    "    return 0"
   ]
  },
  {
   "cell_type": "code",
   "execution_count": 57,
   "metadata": {},
   "outputs": [],
   "source": [
    "df_ma['DIFF'] = df_ma.MA_16 - df_ma.MA_64\n",
    "df_ma['DIFF_PREV'] = df_ma.DIFF.shift(1)\n",
    "df_ma['IS_TRADE'] = df_ma.apply(is_trade, axis=1)\n",
    "df_trades = df_ma[df_ma.IS_TRADE!=0].copy()"
   ]
  },
  {
   "cell_type": "code",
   "execution_count": 58,
   "metadata": {},
   "outputs": [
    {
     "data": {
      "text/html": [
       "<div>\n",
       "<style scoped>\n",
       "    .dataframe tbody tr th:only-of-type {\n",
       "        vertical-align: middle;\n",
       "    }\n",
       "\n",
       "    .dataframe tbody tr th {\n",
       "        vertical-align: top;\n",
       "    }\n",
       "\n",
       "    .dataframe thead th {\n",
       "        text-align: right;\n",
       "    }\n",
       "</style>\n",
       "<table border=\"1\" class=\"dataframe\">\n",
       "  <thead>\n",
       "    <tr style=\"text-align: right;\">\n",
       "      <th></th>\n",
       "      <th>time</th>\n",
       "      <th>mid_o</th>\n",
       "      <th>mid_h</th>\n",
       "      <th>mid_l</th>\n",
       "      <th>mid_c</th>\n",
       "      <th>MA_16</th>\n",
       "      <th>MA_64</th>\n",
       "      <th>DIFF</th>\n",
       "      <th>DIFF_PREV</th>\n",
       "      <th>IS_TRADE</th>\n",
       "    </tr>\n",
       "  </thead>\n",
       "  <tbody>\n",
       "    <tr>\n",
       "      <th>25</th>\n",
       "      <td>2022-09-26T04:00:00.000000000Z</td>\n",
       "      <td>0.72249</td>\n",
       "      <td>0.72284</td>\n",
       "      <td>0.72222</td>\n",
       "      <td>0.72244</td>\n",
       "      <td>0.722538</td>\n",
       "      <td>0.722645</td>\n",
       "      <td>-0.000107</td>\n",
       "      <td>0.000034</td>\n",
       "      <td>-1</td>\n",
       "    </tr>\n",
       "    <tr>\n",
       "      <th>26</th>\n",
       "      <td>2022-09-26T05:00:00.000000000Z</td>\n",
       "      <td>0.72242</td>\n",
       "      <td>0.72324</td>\n",
       "      <td>0.72214</td>\n",
       "      <td>0.72240</td>\n",
       "      <td>0.722696</td>\n",
       "      <td>0.722680</td>\n",
       "      <td>0.000015</td>\n",
       "      <td>-0.000107</td>\n",
       "      <td>1</td>\n",
       "    </tr>\n",
       "    <tr>\n",
       "      <th>28</th>\n",
       "      <td>2022-09-26T07:00:00.000000000Z</td>\n",
       "      <td>0.72409</td>\n",
       "      <td>0.72428</td>\n",
       "      <td>0.72168</td>\n",
       "      <td>0.72214</td>\n",
       "      <td>0.722723</td>\n",
       "      <td>0.722765</td>\n",
       "      <td>-0.000042</td>\n",
       "      <td>0.000027</td>\n",
       "      <td>-1</td>\n",
       "    </tr>\n",
       "    <tr>\n",
       "      <th>29</th>\n",
       "      <td>2022-09-26T08:00:00.000000000Z</td>\n",
       "      <td>0.72212</td>\n",
       "      <td>0.72558</td>\n",
       "      <td>0.72210</td>\n",
       "      <td>0.72494</td>\n",
       "      <td>0.722882</td>\n",
       "      <td>0.722824</td>\n",
       "      <td>0.000059</td>\n",
       "      <td>-0.000042</td>\n",
       "      <td>1</td>\n",
       "    </tr>\n",
       "    <tr>\n",
       "      <th>37</th>\n",
       "      <td>2022-09-26T16:00:00.000000000Z</td>\n",
       "      <td>0.72206</td>\n",
       "      <td>0.72350</td>\n",
       "      <td>0.71960</td>\n",
       "      <td>0.72350</td>\n",
       "      <td>0.723414</td>\n",
       "      <td>0.723502</td>\n",
       "      <td>-0.000088</td>\n",
       "      <td>0.000021</td>\n",
       "      <td>-1</td>\n",
       "    </tr>\n",
       "  </tbody>\n",
       "</table>\n",
       "</div>"
      ],
      "text/plain": [
       "                              time    mid_o    mid_h    mid_l    mid_c   \n",
       "25  2022-09-26T04:00:00.000000000Z  0.72249  0.72284  0.72222  0.72244  \\\n",
       "26  2022-09-26T05:00:00.000000000Z  0.72242  0.72324  0.72214  0.72240   \n",
       "28  2022-09-26T07:00:00.000000000Z  0.72409  0.72428  0.72168  0.72214   \n",
       "29  2022-09-26T08:00:00.000000000Z  0.72212  0.72558  0.72210  0.72494   \n",
       "37  2022-09-26T16:00:00.000000000Z  0.72206  0.72350  0.71960  0.72350   \n",
       "\n",
       "       MA_16     MA_64      DIFF  DIFF_PREV  IS_TRADE  \n",
       "25  0.722538  0.722645 -0.000107   0.000034        -1  \n",
       "26  0.722696  0.722680  0.000015  -0.000107         1  \n",
       "28  0.722723  0.722765 -0.000042   0.000027        -1  \n",
       "29  0.722882  0.722824  0.000059  -0.000042         1  \n",
       "37  0.723414  0.723502 -0.000088   0.000021        -1  "
      ]
     },
     "execution_count": 58,
     "metadata": {},
     "output_type": "execute_result"
    }
   ],
   "source": [
    "df_trades.head()"
   ]
  },
  {
   "cell_type": "code",
   "execution_count": 59,
   "metadata": {},
   "outputs": [],
   "source": [
    "df_trades[\"DELTA\"] = (df_trades.mid_c.diff() / i_pair.pipLocation).shift(-1)\n",
    "df_trades[\"GAIN\"] = df_trades[\"DELTA\"] * df_trades[\"IS_TRADE\"]"
   ]
  },
  {
   "cell_type": "code",
   "execution_count": 60,
   "metadata": {},
   "outputs": [
    {
     "data": {
      "text/plain": [
       "46.400000000002024"
      ]
     },
     "execution_count": 60,
     "metadata": {},
     "output_type": "execute_result"
    }
   ],
   "source": [
    "df_trades[\"GAIN\"].sum()"
   ]
  },
  {
   "cell_type": "code",
   "execution_count": 61,
   "metadata": {},
   "outputs": [],
   "source": [
    "df_plot = df_ma.iloc[0:100].copy()"
   ]
  },
  {
   "cell_type": "code",
   "execution_count": 62,
   "metadata": {},
   "outputs": [
    {
     "data": {
      "text/plain": [
       "(100, 10)"
      ]
     },
     "execution_count": 62,
     "metadata": {},
     "output_type": "execute_result"
    }
   ],
   "source": [
    "df_plot.shape"
   ]
  },
  {
   "cell_type": "code",
   "execution_count": 63,
   "metadata": {},
   "outputs": [
    {
     "ename": "AttributeError",
     "evalue": "module 'plotly.validators.scatter' has no attribute 'LineValidator'",
     "output_type": "error",
     "traceback": [
      "\u001b[1;31m---------------------------------------------------------------------------\u001b[0m",
      "\u001b[1;31mAttributeError\u001b[0m                            Traceback (most recent call last)",
      "Cell \u001b[1;32mIn[63], line 12\u001b[0m\n\u001b[0;32m     10\u001b[0m \u001b[39mfor\u001b[39;00m ma \u001b[39min\u001b[39;00m ma_list:\n\u001b[0;32m     11\u001b[0m     col\u001b[39m=\u001b[39m\u001b[39mf\u001b[39m\u001b[39m\"\u001b[39m\u001b[39mMA_\u001b[39m\u001b[39m{\u001b[39;00mma\u001b[39m}\u001b[39;00m\u001b[39m\"\u001b[39m\n\u001b[1;32m---> 12\u001b[0m     fig\u001b[39m.\u001b[39madd_trace(go\u001b[39m.\u001b[39;49mScatter(x\u001b[39m=\u001b[39;49mdf_plot\u001b[39m.\u001b[39;49mtime, \n\u001b[0;32m     13\u001b[0m                              y\u001b[39m=\u001b[39;49mdf_plot[col], \n\u001b[0;32m     14\u001b[0m                             line\u001b[39m=\u001b[39;49m\u001b[39mdict\u001b[39;49m(width\u001b[39m=\u001b[39;49m\u001b[39m2\u001b[39;49m),\n\u001b[0;32m     15\u001b[0m                             line_shape\u001b[39m=\u001b[39;49m\u001b[39m'\u001b[39;49m\u001b[39mspline\u001b[39;49m\u001b[39m'\u001b[39;49m, \n\u001b[0;32m     16\u001b[0m                             name\u001b[39m=\u001b[39;49mcol))\n\u001b[0;32m     17\u001b[0m fig\u001b[39m.\u001b[39mupdate_layout(width\u001b[39m=\u001b[39m\u001b[39m900\u001b[39m, height\u001b[39m=\u001b[39m\u001b[39m400\u001b[39m, \n\u001b[0;32m     18\u001b[0m                   margin\u001b[39m=\u001b[39m\u001b[39mdict\u001b[39m(l\u001b[39m=\u001b[39m\u001b[39m10\u001b[39m, r\u001b[39m=\u001b[39m\u001b[39m10\u001b[39m, b\u001b[39m=\u001b[39m\u001b[39m10\u001b[39m, t\u001b[39m=\u001b[39m\u001b[39m10\u001b[39m),\n\u001b[0;32m     19\u001b[0m                   font\u001b[39m=\u001b[39m\u001b[39mdict\u001b[39m(size\u001b[39m=\u001b[39m\u001b[39m10\u001b[39m, color\u001b[39m=\u001b[39m\u001b[39m\"\u001b[39m\u001b[39m#e1e1e1\u001b[39m\u001b[39m\"\u001b[39m),\n\u001b[0;32m     20\u001b[0m                   paper_bgcolor\u001b[39m=\u001b[39m\u001b[39m\"\u001b[39m\u001b[39m#1e1e1e\u001b[39m\u001b[39m\"\u001b[39m,\n\u001b[0;32m     21\u001b[0m                   plot_bgcolor\u001b[39m=\u001b[39m\u001b[39m\"\u001b[39m\u001b[39m#1e1e1e\u001b[39m\u001b[39m\"\u001b[39m)\n\u001b[0;32m     22\u001b[0m fig\u001b[39m.\u001b[39mupdate_xaxes(\n\u001b[0;32m     23\u001b[0m     gridcolor\u001b[39m=\u001b[39m\u001b[39m\"\u001b[39m\u001b[39m#1f292f\u001b[39m\u001b[39m\"\u001b[39m,\n\u001b[0;32m     24\u001b[0m     showgrid\u001b[39m=\u001b[39m\u001b[39mTrue\u001b[39;00m, fixedrange\u001b[39m=\u001b[39m\u001b[39mTrue\u001b[39;00m, rangeslider\u001b[39m=\u001b[39m\u001b[39mdict\u001b[39m(visible\u001b[39m=\u001b[39m\u001b[39mFalse\u001b[39;00m)\n\u001b[0;32m     25\u001b[0m )\n",
      "File \u001b[1;32md:\\Studies\\Programming\\VS Code\\oanda-trading-bot\\venv\\Lib\\site-packages\\plotly\\graph_objs\\_scatter.py:3331\u001b[0m, in \u001b[0;36mScatter.__init__\u001b[1;34m(self, arg, alignmentgroup, cliponaxis, connectgaps, customdata, customdatasrc, dx, dy, error_x, error_y, fill, fillcolor, fillpattern, groupnorm, hoverinfo, hoverinfosrc, hoverlabel, hoveron, hovertemplate, hovertemplatesrc, hovertext, hovertextsrc, ids, idssrc, legendgroup, legendgrouptitle, legendrank, legendwidth, line, marker, meta, metasrc, mode, name, offsetgroup, opacity, orientation, selected, selectedpoints, showlegend, stackgaps, stackgroup, stream, text, textfont, textposition, textpositionsrc, textsrc, texttemplate, texttemplatesrc, uid, uirevision, unselected, visible, x, x0, xaxis, xcalendar, xhoverformat, xperiod, xperiod0, xperiodalignment, xsrc, y, y0, yaxis, ycalendar, yhoverformat, yperiod, yperiod0, yperiodalignment, ysrc, **kwargs)\u001b[0m\n\u001b[0;32m   3329\u001b[0m _v \u001b[39m=\u001b[39m line \u001b[39mif\u001b[39;00m line \u001b[39mis\u001b[39;00m \u001b[39mnot\u001b[39;00m \u001b[39mNone\u001b[39;00m \u001b[39melse\u001b[39;00m _v\n\u001b[0;32m   3330\u001b[0m \u001b[39mif\u001b[39;00m _v \u001b[39mis\u001b[39;00m \u001b[39mnot\u001b[39;00m \u001b[39mNone\u001b[39;00m:\n\u001b[1;32m-> 3331\u001b[0m     \u001b[39mself\u001b[39;49m[\u001b[39m\"\u001b[39;49m\u001b[39mline\u001b[39;49m\u001b[39m\"\u001b[39;49m] \u001b[39m=\u001b[39m _v\n\u001b[0;32m   3332\u001b[0m _v \u001b[39m=\u001b[39m arg\u001b[39m.\u001b[39mpop(\u001b[39m\"\u001b[39m\u001b[39mmarker\u001b[39m\u001b[39m\"\u001b[39m, \u001b[39mNone\u001b[39;00m)\n\u001b[0;32m   3333\u001b[0m _v \u001b[39m=\u001b[39m marker \u001b[39mif\u001b[39;00m marker \u001b[39mis\u001b[39;00m \u001b[39mnot\u001b[39;00m \u001b[39mNone\u001b[39;00m \u001b[39melse\u001b[39;00m _v\n",
      "File \u001b[1;32md:\\Studies\\Programming\\VS Code\\oanda-trading-bot\\venv\\Lib\\site-packages\\plotly\\basedatatypes.py:4838\u001b[0m, in \u001b[0;36mBasePlotlyType.__setitem__\u001b[1;34m(self, prop, value)\u001b[0m\n\u001b[0;32m   4835\u001b[0m     \u001b[39mself\u001b[39m\u001b[39m.\u001b[39m_raise_on_invalid_property_error()(prop)\n\u001b[0;32m   4837\u001b[0m \u001b[39m# ### Get validator for this property ###\u001b[39;00m\n\u001b[1;32m-> 4838\u001b[0m validator \u001b[39m=\u001b[39m \u001b[39mself\u001b[39;49m\u001b[39m.\u001b[39;49m_get_validator(prop)\n\u001b[0;32m   4840\u001b[0m \u001b[39m# ### Handle compound property ###\u001b[39;00m\n\u001b[0;32m   4841\u001b[0m \u001b[39mif\u001b[39;00m \u001b[39misinstance\u001b[39m(validator, CompoundValidator):\n",
      "File \u001b[1;32md:\\Studies\\Programming\\VS Code\\oanda-trading-bot\\venv\\Lib\\site-packages\\plotly\\basedatatypes.py:4320\u001b[0m, in \u001b[0;36mBasePlotlyType._get_validator\u001b[1;34m(self, prop)\u001b[0m\n\u001b[0;32m   4317\u001b[0m \u001b[39mdef\u001b[39;00m \u001b[39m_get_validator\u001b[39m(\u001b[39mself\u001b[39m, prop):\n\u001b[0;32m   4318\u001b[0m     \u001b[39mfrom\u001b[39;00m \u001b[39m.\u001b[39;00m\u001b[39mvalidator_cache\u001b[39;00m \u001b[39mimport\u001b[39;00m ValidatorCache\n\u001b[1;32m-> 4320\u001b[0m     \u001b[39mreturn\u001b[39;00m ValidatorCache\u001b[39m.\u001b[39;49mget_validator(\u001b[39mself\u001b[39;49m\u001b[39m.\u001b[39;49m_path_str, prop)\n",
      "File \u001b[1;32md:\\Studies\\Programming\\VS Code\\oanda-trading-bot\\venv\\Lib\\site-packages\\plotly\\validator_cache.py:28\u001b[0m, in \u001b[0;36mValidatorCache.get_validator\u001b[1;34m(parent_path, prop_name)\u001b[0m\n\u001b[0;32m     26\u001b[0m         lookup_name \u001b[39m=\u001b[39m lookup_name \u001b[39mor\u001b[39;00m prop_name\n\u001b[0;32m     27\u001b[0m         class_name \u001b[39m=\u001b[39m lookup_name\u001b[39m.\u001b[39mtitle() \u001b[39m+\u001b[39m \u001b[39m\"\u001b[39m\u001b[39mValidator\u001b[39m\u001b[39m\"\u001b[39m\n\u001b[1;32m---> 28\u001b[0m         validator \u001b[39m=\u001b[39m \u001b[39mgetattr\u001b[39m(\n\u001b[0;32m     29\u001b[0m             importlib\u001b[39m.\u001b[39mimport_module(\u001b[39m\"\u001b[39m\u001b[39mplotly.validators.\u001b[39m\u001b[39m\"\u001b[39m \u001b[39m+\u001b[39m parent_path),\n\u001b[0;32m     30\u001b[0m             class_name,\n\u001b[0;32m     31\u001b[0m         )(plotly_name\u001b[39m=\u001b[39mprop_name)\n\u001b[0;32m     32\u001b[0m     ValidatorCache\u001b[39m.\u001b[39m_cache[key] \u001b[39m=\u001b[39m validator\n\u001b[0;32m     34\u001b[0m \u001b[39mreturn\u001b[39;00m ValidatorCache\u001b[39m.\u001b[39m_cache[key]\n",
      "\u001b[1;31mAttributeError\u001b[0m: module 'plotly.validators.scatter' has no attribute 'LineValidator'"
     ]
    }
   ],
   "source": [
    "fig = go.Figure()\n",
    "fig.add_trace(go.Candlestick(\n",
    "    x=df_plot.time, open=df_plot.mid_o, high=df_plot.mid_h, low=df_plot.mid_l, close=df_plot.mid_c,\n",
    "    line=dict(width=1), opacity=1,\n",
    "    increasing_fillcolor='#24A06B',\n",
    "    decreasing_fillcolor=\"#CC2E3C\",\n",
    "    increasing_line_color='#2EC886',  \n",
    "    decreasing_line_color='#FF3A4C'\n",
    "))\n",
    "for ma in ma_list:  \n",
    "    col = f\"MA_{ma}\"\n",
    "    fig.add_trace(go.Scatter(x=df_plot.time, \n",
    "        y=df_plot[col],\n",
    "        line=dict(width=2),\n",
    "        line_shape='spline',\n",
    "        name=col\n",
    "        ))\n",
    "fig.update_layout(width=1000,height=400,\n",
    "    margin=dict(l=10,r=10,b=10,t=10),\n",
    "    font=dict(size=10,color=\"#e1e1e1\"),\n",
    "    paper_bgcolor=\"#1e1e1e\",\n",
    "    plot_bgcolor=\"#1e1e1e\")\n",
    "fig.update_xaxes(\n",
    "    gridcolor=\"#1f292f\",\n",
    "    showgrid=True,fixedrange=True,rangeslider=dict(visible=False)\n",
    ")\n",
    "fig.update_yaxes(\n",
    "    gridcolor=\"#1f292f\",\n",
    "    showgrid=True\n",
    ")\n",
    "fig.show()"
   ]
  },
  {
   "cell_type": "code",
   "execution_count": null,
   "metadata": {},
   "outputs": [],
   "source": []
  }
 ],
 "metadata": {
  "kernelspec": {
   "display_name": "venv",
   "language": "python",
   "name": "python3"
  },
  "language_info": {
   "codemirror_mode": {
    "name": "ipython",
    "version": 3
   },
   "file_extension": ".py",
   "mimetype": "text/x-python",
   "name": "python",
   "nbconvert_exporter": "python",
   "pygments_lexer": "ipython3",
   "version": "3.11.3"
  },
  "orig_nbformat": 4
 },
 "nbformat": 4,
 "nbformat_minor": 2
}
